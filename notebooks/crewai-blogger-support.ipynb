{
 "cells": [
  {
   "cell_type": "markdown",
   "metadata": {},
   "source": [
    "# CrewAI Agents for Blogger Support\n",
    "\n",
    "Shows how CrewAI can coordinate multiple agents to help generate and refine blog content."
   ]
  },
  {
   "cell_type": "code",
   "execution_count": null,
   "metadata": {
    "id": "EnU8kqqW9P7C"
   },
   "outputs": [],
   "source": [
    "!pip install crewai crewai_tools python_dotenv"
   ]
  },
  {
   "cell_type": "code",
   "execution_count": null,
   "metadata": {
    "id": "czzZ_vzP9aL2"
   },
   "outputs": [],
   "source": [
    "from dotenv import load_dotenv\n",
    "load_dotenv()"
   ]
  },
  {
   "cell_type": "code",
   "execution_count": null,
   "metadata": {
    "id": "hhyM2i8I9bTR"
   },
   "outputs": [],
   "source": [
    "import os\n",
    "os.environ[\"OPENAI_MODEL_NAME\"]='gpt-4o-mini'"
   ]
  },
  {
   "cell_type": "code",
   "execution_count": null,
   "metadata": {
    "id": "iZMVWe9K9rtJ"
   },
   "outputs": [],
   "source": [
    "from crewai import Agent, Task, Crew"
   ]
  },
  {
   "cell_type": "markdown",
   "metadata": {
    "id": "JGbBLQbHGhAk"
   },
   "source": [
    "# AI Agent to support creation of articles"
   ]
  },
  {
   "cell_type": "markdown",
   "metadata": {
    "id": "iHqCkO2l-EiJ"
   },
   "source": [
    "##Creating Agents\n",
    "Define Agents and provide a role, goal and backstory"
   ]
  },
  {
   "cell_type": "code",
   "execution_count": null,
   "metadata": {
    "id": "mqR-V5la9vRi"
   },
   "outputs": [],
   "source": [
    "planner = Agent(\n",
    "    role=\"Content planner\",\n",
    "    goal=\"Plan engaging and factually accurate content on {topic}\",\n",
    "    backstory=\"You're working on planning a blog article \"\n",
    "                \"about the topic {topic}.\"\n",
    "                \"You collect information that helps the \"\n",
    "                \"audience learn something and make informed decisions \"\n",
    "                \"Your work is the basis for the Content Writer to write an article on the topic\"\n",
    "                \"Content should be written in italian language\",\n",
    "    allow_delegation=False,\n",
    "    verbose=True\n",
    ")"
   ]
  },
  {
   "cell_type": "code",
   "execution_count": null,
   "metadata": {
    "id": "yk3wRbID-7-V"
   },
   "outputs": [],
   "source": [
    "writer = Agent(\n",
    "    role=\"Content writer\",\n",
    "    goal=\"Write insightful and factually accurate opinion piece about the topic {topic}\",\n",
    "    backstory=\"You're working on a writing a new opinion piece about the topic {topic} \"\n",
    "                \"You base your writing on the work of the COntent Planner, who provides an outline \"\n",
    "                \"and relevant context about the topic. \"\n",
    "                \"You follow the main objectives and direction of the outline, as provided to you by the Content Planner. \"\n",
    "                \"You also provide objective and impartial insights and back them up with information provide by Content Planner.\"\n",
    "                \"You acknowledge in your opinion piece when your statements are opiniions as opposed to objective statements.\"\n",
    "                \"Article should be written in italian language\",\n",
    "    allow_delegation=False,\n",
    "    verbose=True\n",
    ")"
   ]
  },
  {
   "cell_type": "code",
   "execution_count": null,
   "metadata": {
    "id": "xuW_0ys2_6id"
   },
   "outputs": [],
   "source": [
    "editor = Agent(\n",
    "    role=\"Editor\",\n",
    "    goal=\"Edit a given blog post to align with the writing style of the organization\",\n",
    "    backstory=\"You are an editor who receives a blog post from the COntent Writer. \"\n",
    "                \"Your goal is to review the blog post to ensure that is follows journalistic best practices, \"\n",
    "                \"provide balanced viewpoints when providing opinions or asssertions, \"\n",
    "                \"and also avoid major controversial topics or opinions when possibile \"\n",
    "                \"Article should be written in italian langue\",\n",
    "    allow_delegation=False,\n",
    "    verbose=True\n",
    ")"
   ]
  },
  {
   "cell_type": "markdown",
   "metadata": {
    "id": "tQOnmq_hAi_7"
   },
   "source": [
    "##Defining Tasks\n",
    "Defining tasks and provide them a description, expected_output and agent"
   ]
  },
  {
   "cell_type": "code",
   "execution_count": null,
   "metadata": {
    "id": "UqaWfyxlAgad"
   },
   "outputs": [],
   "source": [
    "plan = Task(\n",
    "    description=(\n",
    "        \"1. Prioritize latest trends on topic {topic}\\n\"\n",
    "        \"2. Identify the target audience considering their interests.\\n\"\n",
    "        \"3. Develop a detailed content outline including intro, key points and a call to action.\\n\"\n",
    "        \"4. Include SEO keywords and relevant sources\"\n",
    "    ),\n",
    "    expected_output=\"A comprehensive content plan document woth outline, audience analysis, SEO keywords and resources\",\n",
    "    agent=planner\n",
    ")"
   ]
  },
  {
   "cell_type": "code",
   "execution_count": null,
   "metadata": {
    "id": "a54C317yBjYk"
   },
   "outputs": [],
   "source": [
    "write = Task(\n",
    "    description=(\n",
    "        \"1. Use the content plan to craft a compelling blog post on {topic}\\n\"\n",
    "        \"2. Incorporate SEO keywords naturally\\n\"\n",
    "        \"3. Ensure the post is structured with an engagin intro, insightful body and summarizing conclusion.\"\n",
    "    ),\n",
    "    expected_output=\"A well written blog post in markdow format ready for publication. Each section should have 2 or 3 paragraphs.\",\n",
    "    agent=writer\n",
    ")"
   ]
  },
  {
   "cell_type": "code",
   "execution_count": null,
   "metadata": {
    "id": "L2yHrEtSCDw6"
   },
   "outputs": [],
   "source": [
    "edit = Task(\n",
    "    description=(\n",
    "        \"Review the given blog post for grammatical errors and alignment with the brand's voice that is a journal for teenagers.\"\n",
    "    ),\n",
    "    expected_output=\"A well written blog post in markdow format ready for publication. Each section should have 2 or 3 paragraphs.\",\n",
    "    agent=editor\n",
    ")"
   ]
  },
  {
   "cell_type": "markdown",
   "metadata": {
    "id": "MjxOcqYBCfAz"
   },
   "source": [
    "##Creating the Crew\n",
    "Create crew of agents and pass them the tasks."
   ]
  },
  {
   "cell_type": "code",
   "execution_count": null,
   "metadata": {
    "id": "N5k80dD-CYA1"
   },
   "outputs": [],
   "source": [
    "crew = Crew(\n",
    "    agents=[planner, writer, editor],\n",
    "    tasks=[plan, write, edit],\n",
    "    verbose=True\n",
    ")"
   ]
  },
  {
   "cell_type": "code",
   "execution_count": null,
   "metadata": {
    "id": "dPKgzJpICof5"
   },
   "outputs": [],
   "source": [
    "result = crew.kickoff(inputs={\"topic\": \"Stipendio dei giocatori di calcio\"})"
   ]
  },
  {
   "cell_type": "code",
   "execution_count": null,
   "metadata": {
    "id": "xfpJmoocCzy3"
   },
   "outputs": [],
   "source": [
    "output = result.raw\n",
    "output = output.replace('```markdown', '')\n",
    "output = output.replace('```', '')"
   ]
  },
  {
   "cell_type": "code",
   "execution_count": null,
   "metadata": {
    "id": "uA2cw9cIDS8M"
   },
   "outputs": [],
   "source": [
    "from IPython.display import display, Markdown\n",
    "Markdown(output)"
   ]
  },
  {
   "cell_type": "markdown",
   "metadata": {
    "id": "HLCE_j3HEEY1"
   },
   "source": [
    "# AI Agent to support aggregation of info from websites"
   ]
  },
  {
   "cell_type": "markdown",
   "metadata": {
    "id": "s64fKIwWFMl-"
   },
   "source": [
    "Scrapping tool"
   ]
  },
  {
   "cell_type": "code",
   "execution_count": null,
   "metadata": {
    "id": "K_VziKPYEGXm"
   },
   "outputs": [],
   "source": [
    "from crewai_tools.tools import ScrapeWebsiteTool\n",
    "\n",
    "scrape_tool = ScrapeWebsiteTool()\n",
    "scrape_tool = ScrapeWebsiteTool(website_url='https://www.repubblica.it/')\n",
    "\n",
    "text = scrape_tool.run()\n",
    "print(text[:500])"
   ]
  },
  {
   "cell_type": "markdown",
   "metadata": {
    "id": "XICPUs4GFTje"
   },
   "source": [
    "Sampple of Custom tool\n",
    "*   Agent level: Agent can use the tool on any task performed\n",
    "*   Task level: Agent can use the tool when performing that specific task (overrides previous one)"
   ]
  },
  {
   "cell_type": "code",
   "execution_count": null,
   "metadata": {
    "id": "NiKzx9RCFGeV"
   },
   "outputs": [],
   "source": [
    "from langchain.tools import tool\n",
    "\n",
    "@tool(\"Calculator\")\n",
    "def calculate(operation):\n",
    "  \"\"\"\n",
    "    Useful to perform any math calculations, like sum, minus, multiplication and division.\n",
    "    The input to this tool should be a mathematical expression, a coouple of example are `200*7` or `50/2`\n",
    "  \"\"\"\n",
    "\n",
    "  try:\n",
    "    return eval(operation)\n",
    "  except Exception as e:\n",
    "    return \"Error: Invalid syntax in mathematical expression\""
   ]
  },
  {
   "cell_type": "markdown",
   "metadata": {
    "id": "AKjwp_XOHamA"
   },
   "source": [
    "##Creating Agents with relative Tasks"
   ]
  },
  {
   "cell_type": "code",
   "execution_count": null,
   "metadata": {
    "id": "aTTziMrnHX8-"
   },
   "outputs": [],
   "source": [
    "newspaper_reader_agent = Agent(\n",
    "    role=\"NewsPaperReader\",\n",
    "    goal=\"Collect news from all websites and summarize them\",\n",
    "    backstory=(\n",
    "        \"You work for an important communication company and you are asked to read all news from relevant websites. \"\n",
    "        \"You should provide clear and concise summary of all the news. Use language Italian.\"\n",
    "    ),\n",
    "    allow_delegation=False,\n",
    "    verbose=True\n",
    ")"
   ]
  },
  {
   "cell_type": "code",
   "execution_count": null,
   "metadata": {
    "id": "UuNo1eBqHZPG"
   },
   "outputs": [],
   "source": [
    "newspapaer_reading = Task(\n",
    "    description=(\n",
    "        \"Read all the news from the following websites: {websites}\\n\"\n",
    "        \"Summarize the news in a bullet point list\\n\"\n",
    "    ),\n",
    "    expected_output=\"A bullet point list of the main news from websites.\",\n",
    "    tools=[scrape_tool],\n",
    "    agent=newspaper_reader_agent\n",
    ")"
   ]
  },
  {
   "cell_type": "code",
   "execution_count": null,
   "metadata": {
    "id": "6OGzfBtuIYCk"
   },
   "outputs": [],
   "source": [
    "newspaper_filter_agent = Agent(\n",
    "    role=\"NewsPaperFilter\",\n",
    "    goal=\"Extract only news related to specific topics\",\n",
    "    backstory=(\n",
    "        \"You work for an important communication company and you are asked to find all news from all relevant websites \"\n",
    "        \"that are related to a specific topics. Use language Italian.\"\n",
    "    ),\n",
    "    allow_delegation=False,\n",
    "    verbose=True\n",
    ")"
   ]
  },
  {
   "cell_type": "code",
   "execution_count": null,
   "metadata": {
    "id": "Q7yyLXrYIxgv"
   },
   "outputs": [],
   "source": [
    "newspapaer_filter = Task(\n",
    "    description=(\n",
    "        \"Read news summary and extract only news related to the following topics: {topics}\"\n",
    "        \"Summarize the news in a bullet point list\\n\"\n",
    "    ),\n",
    "    expected_output=\"A bullet point list of the main news for each provided topic.\",\n",
    "    agent=newspaper_filter_agent\n",
    ")"
   ]
  },
  {
   "cell_type": "code",
   "execution_count": null,
   "metadata": {
    "id": "AaV7vDekJLFO"
   },
   "outputs": [],
   "source": [
    "crew = Crew(\n",
    "    agents=[newspaper_reader_agent, newspaper_filter_agent],\n",
    "    tasks=[newspapaer_reading, newspapaer_filter],\n",
    "    verbose=True ,\n",
    "    memory=True\n",
    ")"
   ]
  },
  {
   "cell_type": "code",
   "execution_count": null,
   "metadata": {
    "id": "zeYctzdmKTEz"
   },
   "outputs": [],
   "source": [
    "inputs = {\n",
    "    \"websites\": [\"https:www.repubblica.it/\", \"https:www.ilsole24ore.com/\"],\n",
    "    \"topics\": [\"Economia\", \"Attualità\"]\n",
    "}\n",
    "\n",
    "result = crew.kickoff(inputs=inputs)"
   ]
  },
  {
   "cell_type": "code",
   "execution_count": null,
   "metadata": {
    "id": "rBJdEf_fKy5W"
   },
   "outputs": [],
   "source": [
    "output = result.raw"
   ]
  },
  {
   "cell_type": "code",
   "execution_count": null,
   "metadata": {
    "id": "dZBgkVygLBwO"
   },
   "outputs": [],
   "source": [
    "from IPython.display import display, Markdown\n",
    "Markdown(output)"
   ]
  },
  {
   "cell_type": "code",
   "execution_count": null,
   "metadata": {
    "id": "95sO39StLD_C"
   },
   "outputs": [],
   "source": []
  }
 ],
 "metadata": {
  "colab": {
   "authorship_tag": "ABX9TyMhejxasaKcsaW/w2vxIuP3",
   "include_colab_link": true,
   "provenance": []
  },
  "kernelspec": {
   "display_name": "Python 3",
   "name": "python3"
  },
  "language_info": {
   "name": "python"
  }
 },
 "nbformat": 4,
 "nbformat_minor": 0
}
